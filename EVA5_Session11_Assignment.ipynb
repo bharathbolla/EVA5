{
  "nbformat": 4,
  "nbformat_minor": 0,
  "metadata": {
    "colab": {
      "name": "EVA5_Session11_Assignment.ipynb",
      "provenance": [],
      "collapsed_sections": [],
      "include_colab_link": true
    },
    "kernelspec": {
      "name": "python3",
      "display_name": "Python 3"
    },
    "accelerator": "GPU"
  },
  "cells": [
    {
      "cell_type": "markdown",
      "metadata": {
        "id": "view-in-github",
        "colab_type": "text"
      },
      "source": [
        "<a href=\"https://colab.research.google.com/github/bharathbolla/EVA5/blob/S11/EVA5_Session11_Assignment.ipynb\" target=\"_parent\"><img src=\"https://colab.research.google.com/assets/colab-badge.svg\" alt=\"Open In Colab\"/></a>"
      ]
    },
    {
      "cell_type": "code",
      "metadata": {
        "id": "KVREu1dGPRw5",
        "outputId": "a9cfdf12-2b9f-4500-a399-d8ec8d49e6ba",
        "colab": {
          "base_uri": "https://localhost:8080/",
          "height": 34
        }
      },
      "source": [
        "from datetime import datetime \n",
        "print(\"Current Date/Time: \", datetime.now())"
      ],
      "execution_count": null,
      "outputs": [
        {
          "output_type": "stream",
          "text": [
            "Current Date/Time:  2020-10-10 16:31:21.076184\n"
          ],
          "name": "stdout"
        }
      ]
    },
    {
      "cell_type": "code",
      "metadata": {
        "id": "Gr0Kp40UPanD",
        "outputId": "7066711d-e085-4f81-e513-f291d0486568",
        "colab": {
          "base_uri": "https://localhost:8080/",
          "height": 357
        }
      },
      "source": [
        "!nvidia-smi"
      ],
      "execution_count": null,
      "outputs": [
        {
          "output_type": "stream",
          "text": [
            "Sat Oct 10 16:31:23 2020       \n",
            "+-----------------------------------------------------------------------------+\n",
            "| NVIDIA-SMI 455.23.05    Driver Version: 418.67       CUDA Version: 10.1     |\n",
            "|-------------------------------+----------------------+----------------------+\n",
            "| GPU  Name        Persistence-M| Bus-Id        Disp.A | Volatile Uncorr. ECC |\n",
            "| Fan  Temp  Perf  Pwr:Usage/Cap|         Memory-Usage | GPU-Util  Compute M. |\n",
            "|                               |                      |               MIG M. |\n",
            "|===============================+======================+======================|\n",
            "|   0  Tesla P100-PCIE...  Off  | 00000000:00:04.0 Off |                    0 |\n",
            "| N/A   34C    P0    25W / 250W |      0MiB / 16280MiB |      0%      Default |\n",
            "|                               |                      |                 ERR! |\n",
            "+-------------------------------+----------------------+----------------------+\n",
            "                                                                               \n",
            "+-----------------------------------------------------------------------------+\n",
            "| Processes:                                                                  |\n",
            "|  GPU   GI   CI        PID   Type   Process name                  GPU Memory |\n",
            "|        ID   ID                                                   Usage      |\n",
            "|=============================================================================|\n",
            "|  No running processes found                                                 |\n",
            "+-----------------------------------------------------------------------------+\n"
          ],
          "name": "stdout"
        }
      ]
    },
    {
      "cell_type": "code",
      "metadata": {
        "id": "6qd36JNjI0OF",
        "outputId": "8f144b07-8433-4ef8-b88c-97c2e8209a1d",
        "colab": {
          "base_uri": "https://localhost:8080/",
          "height": 51
        }
      },
      "source": [
        "from google.colab import drive\n",
        "drive.mount('/content/gdrive')\n",
        "%cd /content/gdrive/My\\ Drive/Colab\\ Notebooks/EVA5/S11_Assignment/"
      ],
      "execution_count": 1,
      "outputs": [
        {
          "output_type": "stream",
          "text": [
            "Drive already mounted at /content/gdrive; to attempt to forcibly remount, call drive.mount(\"/content/gdrive\", force_remount=True).\n",
            "/content/gdrive/My Drive/Colab Notebooks/EVA5/S11_Assignment\n"
          ],
          "name": "stdout"
        }
      ]
    },
    {
      "cell_type": "markdown",
      "metadata": {
        "id": "UAjaZWBjQCEi"
      },
      "source": [
        "#Importing modules\n"
      ]
    },
    {
      "cell_type": "code",
      "metadata": {
        "id": "56_Q8VSTJNs8"
      },
      "source": [
        "from __future__ import print_function\n",
        "import torch\n",
        "import torch.nn as nn\n",
        "import torch.nn.functional as F\n",
        "import torch.optim as optim\n",
        "from torchvision import datasets, transforms\n",
        "%matplotlib inline\n",
        "import matplotlib.pyplot as plt\n",
        "import torchvision\n",
        "from tqdm import tqdm\n",
        "import numpy as np\n",
        "import torchvision.transforms as transforms\n",
        "import albumentations\n",
        "from albumentations.pytorch import ToTensor\n",
        "import random\n",
        "from math import floor\n",
        "from GradCAM.gradcam_visualize import GradCAMView\n",
        "import train\n",
        "import test\n",
        "#from lr_finder import LRFinder\n",
        "#from torch.optim.lr_scheduler import ReduceLROnPlateau\n",
        "#from lr_range_test import LR_Range_Test\n",
        "from torch.optim.lr_scheduler import OneCycleLR"
      ],
      "execution_count": 3,
      "outputs": []
    },
    {
      "cell_type": "markdown",
      "metadata": {
        "id": "_iCzC77YuBlX"
      },
      "source": [
        "#Dataloader\n"
      ]
    },
    {
      "cell_type": "code",
      "metadata": {
        "id": "MxcjcZsJqww0",
        "outputId": "8b652aad-d772-4143-b0ef-2533aeb7fa2c",
        "colab": {
          "base_uri": "https://localhost:8080/",
          "height": 85
        }
      },
      "source": [
        "import dataloader\n",
        "classes = ('plane', 'car', 'bird', 'cat',\n",
        "           'deer', 'dog', 'frog', 'horse', 'ship', 'truck')"
      ],
      "execution_count": 4,
      "outputs": [
        {
          "output_type": "stream",
          "text": [
            "Files already downloaded and verified\n",
            "Files already downloaded and verified\n",
            "Files already downloaded and verified\n",
            "CUDA Available? True\n"
          ],
          "name": "stdout"
        }
      ]
    },
    {
      "cell_type": "markdown",
      "metadata": {
        "id": "YP26lHmCQeKy"
      },
      "source": [
        "#Visualize images"
      ]
    },
    {
      "cell_type": "code",
      "metadata": {
        "id": "8f_n9ZsgKMDx",
        "outputId": "ecc36907-ecfc-4462-f1b6-97dd53277242",
        "colab": {
          "base_uri": "https://localhost:8080/",
          "height": 172
        }
      },
      "source": [
        "def imshow(img):\n",
        "    img = img / 2 + 0.5     # unnormalize\n",
        "    npimg = img.numpy()\n",
        "    plt.imshow(np.transpose(npimg, (1, 2, 0)))\n",
        "\n",
        "# get some random training images\n",
        "dataiter = iter(dataloader.train_loader_Alb)\n",
        "images, labels = dataiter.next()\n",
        "\n",
        "# show images\n",
        "imshow(torchvision.utils.make_grid(images))\n",
        "\n",
        "# print labels\n",
        "print(' '.join('%5s' % classes[labels[j]] for j in range(4)))"
      ],
      "execution_count": 5,
      "outputs": [
        {
          "output_type": "stream",
          "text": [
            "Clipping input data to the valid range for imshow with RGB data ([0..1] for floats or [0..255] for integers).\n"
          ],
          "name": "stderr"
        },
        {
          "output_type": "stream",
          "text": [
            "plane   dog  deer  deer\n"
          ],
          "name": "stdout"
        },
        {
          "output_type": "display_data",
          "data": {
            "image/png": "[encoded data removed]",
            "text/plain": [
              "<Figure size 432x288 with 1 Axes>"
            ]
          },
          "metadata": {
            "tags": [],
            "needs_background": "light"
          }
        }
      ]
    },
    {
      "cell_type": "markdown",
      "metadata": {
        "id": "cCtaFUxfQzp2"
      },
      "source": [
        "#model Total parameters"
      ]
    },
    {
      "cell_type": "code",
      "metadata": {
        "id": "O-lt9fIXLQtF",
        "outputId": "16433a19-b995-4805-f3d2-e2f216457f4f",
        "colab": {
          "base_uri": "https://localhost:8080/",
          "height": 748
        }
      },
      "source": [
        "import model\n",
        "!pip install torchsummary\n",
        "from torchsummary import summary\n",
        "use_cuda = torch.cuda.is_available()\n",
        "device = torch.device(\"cuda\" if use_cuda else \"cpu\")\n",
        "model = model.Net().to(device)\n",
        "summary(model, input_size=(3, 32, 32))"
      ],
      "execution_count": 32,
      "outputs": [
        {
          "output_type": "stream",
          "text": [
            "Requirement already satisfied: torchsummary in /usr/local/lib/python3.6/dist-packages (1.5.1)\n",
            "----------------------------------------------------------------\n",
            "        Layer (type)               Output Shape         Param #\n",
            "================================================================\n",
            "            Conv2d-1           [-1, 64, 32, 32]           1,728\n",
            "       BatchNorm2d-2           [-1, 64, 32, 32]             128\n",
            "              ReLU-3           [-1, 64, 32, 32]               0\n",
            "            Conv2d-4          [-1, 128, 32, 32]          73,728\n",
            "         MaxPool2d-5          [-1, 128, 16, 16]               0\n",
            "       BatchNorm2d-6          [-1, 128, 16, 16]             256\n",
            "              ReLU-7          [-1, 128, 16, 16]               0\n",
            "            Conv2d-8          [-1, 128, 16, 16]         147,456\n",
            "       BatchNorm2d-9          [-1, 128, 16, 16]             256\n",
            "             ReLU-10          [-1, 128, 16, 16]               0\n",
            "           Conv2d-11          [-1, 128, 16, 16]         147,456\n",
            "      BatchNorm2d-12          [-1, 128, 16, 16]             256\n",
            "             ReLU-13          [-1, 128, 16, 16]               0\n",
            "           Conv2d-14          [-1, 256, 16, 16]         294,912\n",
            "        MaxPool2d-15            [-1, 256, 8, 8]               0\n",
            "      BatchNorm2d-16            [-1, 256, 8, 8]             512\n",
            "             ReLU-17            [-1, 256, 8, 8]               0\n",
            "           Conv2d-18            [-1, 512, 8, 8]       1,179,648\n",
            "        MaxPool2d-19            [-1, 512, 4, 4]               0\n",
            "      BatchNorm2d-20            [-1, 512, 4, 4]           1,024\n",
            "             ReLU-21            [-1, 512, 4, 4]               0\n",
            "           Conv2d-22            [-1, 512, 4, 4]       2,359,296\n",
            "      BatchNorm2d-23            [-1, 512, 4, 4]           1,024\n",
            "             ReLU-24            [-1, 512, 4, 4]               0\n",
            "           Conv2d-25            [-1, 512, 4, 4]       2,359,296\n",
            "      BatchNorm2d-26            [-1, 512, 4, 4]           1,024\n",
            "             ReLU-27            [-1, 512, 4, 4]               0\n",
            "        MaxPool2d-28            [-1, 512, 1, 1]               0\n",
            "           Linear-29                   [-1, 10]           5,120\n",
            "================================================================\n",
            "Total params: 6,573,120\n",
            "Trainable params: 6,573,120\n",
            "Non-trainable params: 0\n",
            "----------------------------------------------------------------\n",
            "Input size (MB): 0.01\n",
            "Forward/backward pass size (MB): 6.44\n",
            "Params size (MB): 25.07\n",
            "Estimated Total Size (MB): 31.53\n",
            "----------------------------------------------------------------\n"
          ],
          "name": "stdout"
        }
      ]
    },
    {
      "cell_type": "markdown",
      "metadata": {
        "id": "simmXJVTQ9GD"
      },
      "source": [
        "#LR_Range_Test\n"
      ]
    },
    {
      "cell_type": "code",
      "metadata": {
        "id": "6boiNSuebOTO",
        "outputId": "9944251e-45a8-4a57-a9e8-d8b66a0b76e5",
        "colab": {
          "base_uri": "https://localhost:8080/",
          "height": 272
        }
      },
      "source": [
        "from lr_range_test import LR_Range_Test\n",
        "loss_func = nn.CrossEntropyLoss()\n",
        "LR_Range_Test(0.1, 0.0001 ,device, 15 ,model,loss_func,dataloader.train_loader_Albumentation )"
      ],
      "execution_count": 23,
      "outputs": [
        {
          "output_type": "stream",
          "text": [
            "epoch = 1 Lr = 0.0001  Loss=1.976398229598999 Batch_id=97 Accuracy=21.35: 100%|██████████| 98/98 [00:17<00:00,  5.62it/s]\n",
            "epoch = 2 Lr = 0.00676  Loss=1.3432519435882568 Batch_id=97 Accuracy=40.62: 100%|██████████| 98/98 [00:17<00:00,  5.63it/s]\n",
            "epoch = 3 Lr = 0.013420000000000001  Loss=0.9895267486572266 Batch_id=97 Accuracy=58.24: 100%|██████████| 98/98 [00:17<00:00,  5.59it/s]\n",
            "epoch = 4 Lr = 0.02008  Loss=0.9823411107063293 Batch_id=97 Accuracy=65.35: 100%|██████████| 98/98 [00:17<00:00,  5.57it/s]\n",
            "epoch = 5 Lr = 0.02674  Loss=1.0490224361419678 Batch_id=97 Accuracy=67.73: 100%|██████████| 98/98 [00:17<00:00,  5.62it/s]\n",
            "epoch = 6 Lr = 0.0334  Loss=1.12850821018219 Batch_id=97 Accuracy=65.79: 100%|██████████| 98/98 [00:17<00:00,  5.53it/s]\n",
            "epoch = 7 Lr = 0.04006  Loss=1.0687192678451538 Batch_id=97 Accuracy=63.58: 100%|██████████| 98/98 [00:17<00:00,  5.56it/s]\n",
            "epoch = 8 Lr = 0.04672  Loss=1.1876654624938965 Batch_id=97 Accuracy=60.38: 100%|██████████| 98/98 [00:17<00:00,  5.61it/s]\n",
            "epoch = 9 Lr = 0.05338  Loss=1.2929668426513672 Batch_id=97 Accuracy=58.77: 100%|██████████| 98/98 [00:17<00:00,  5.61it/s]\n",
            "epoch = 10 Lr = 0.060039999999999996  Loss=1.4339410066604614 Batch_id=97 Accuracy=54.91: 100%|██████████| 98/98 [00:17<00:00,  5.60it/s]\n",
            "epoch = 11 Lr = 0.0667  Loss=1.2880899906158447 Batch_id=97 Accuracy=52.92: 100%|██████████| 98/98 [00:17<00:00,  5.65it/s]\n",
            "epoch = 12 Lr = 0.07336  Loss=1.3416061401367188 Batch_id=97 Accuracy=50.13: 100%|██████████| 98/98 [00:17<00:00,  5.56it/s]\n",
            "epoch = 13 Lr = 0.08002  Loss=1.4638653993606567 Batch_id=97 Accuracy=45.80: 100%|██████████| 98/98 [00:17<00:00,  5.67it/s]\n",
            "epoch = 14 Lr = 0.08668  Loss=1.6637766361236572 Batch_id=97 Accuracy=45.35: 100%|██████████| 98/98 [00:17<00:00,  5.62it/s]\n",
            "epoch = 15 Lr = 0.09333999999999999  Loss=1.9823646545410156 Batch_id=97 Accuracy=43.03: 100%|██████████| 98/98 [00:17<00:00,  5.57it/s]\n"
          ],
          "name": "stderr"
        }
      ]
    },
    {
      "cell_type": "code",
      "metadata": {
        "id": "bdbW7gbQflfu",
        "outputId": "13dc2d9c-0e8e-4725-9a1b-6218057c1195",
        "colab": {
          "base_uri": "https://localhost:8080/",
          "height": 442
        }
      },
      "source": [
        "lr_range_test.Lr"
      ],
      "execution_count": 24,
      "outputs": [
        {
          "output_type": "execute_result",
          "data": {
            "text/plain": [
              "[0.0001,\n",
              " 0.00109,\n",
              " 0.0020800000000000003,\n",
              " 0.0030700000000000002,\n",
              " 0.00406,\n",
              " 0.005050000000000001,\n",
              " 0.00604,\n",
              " 0.00703,\n",
              " 0.00802,\n",
              " 0.009009999999999999,\n",
              " 0.0001,\n",
              " 0.00676,\n",
              " 0.013420000000000001,\n",
              " 0.02008,\n",
              " 0.02674,\n",
              " 0.0334,\n",
              " 0.04006,\n",
              " 0.04672,\n",
              " 0.05338,\n",
              " 0.060039999999999996,\n",
              " 0.0667,\n",
              " 0.07336,\n",
              " 0.08002,\n",
              " 0.08668,\n",
              " 0.09333999999999999]"
            ]
          },
          "metadata": {
            "tags": []
          },
          "execution_count": 24
        }
      ]
    },
    {
      "cell_type": "code",
      "metadata": {
        "id": "dgXO1bz0ftrF",
        "outputId": "715a6103-b84b-437b-d681-897aa98b8955",
        "colab": {
          "base_uri": "https://localhost:8080/",
          "height": 442
        }
      },
      "source": [
        "lr_range_test.Lr_acc"
      ],
      "execution_count": 25,
      "outputs": [
        {
          "output_type": "execute_result",
          "data": {
            "text/plain": [
              "[21.152,\n",
              " 39.696,\n",
              " 51.478,\n",
              " 58.964,\n",
              " 65.288,\n",
              " 69.57,\n",
              " 72.45,\n",
              " 74.526,\n",
              " 75.086,\n",
              " 76.058,\n",
              " 21.352,\n",
              " 40.622,\n",
              " 58.242,\n",
              " 65.354,\n",
              " 67.728,\n",
              " 65.794,\n",
              " 63.576,\n",
              " 60.384,\n",
              " 58.766,\n",
              " 54.91,\n",
              " 52.922,\n",
              " 50.126,\n",
              " 45.798,\n",
              " 45.352,\n",
              " 43.032]"
            ]
          },
          "metadata": {
            "tags": []
          },
          "execution_count": 25
        }
      ]
    },
    {
      "cell_type": "code",
      "metadata": {
        "id": "4ntkfrahdV5U"
      },
      "source": [
        "lr_range_test.Lr = lr_range_test.Lr[10:]\n",
        "\n"
      ],
      "execution_count": 27,
      "outputs": []
    },
    {
      "cell_type": "code",
      "metadata": {
        "id": "LNZKybMBd0ii",
        "outputId": "17c8fe9c-6bb1-45fb-fcc5-2c7c20157e0c",
        "colab": {
          "base_uri": "https://localhost:8080/",
          "height": 272
        }
      },
      "source": [
        "lr_range_test.Lr"
      ],
      "execution_count": 28,
      "outputs": [
        {
          "output_type": "execute_result",
          "data": {
            "text/plain": [
              "[0.0001,\n",
              " 0.00676,\n",
              " 0.013420000000000001,\n",
              " 0.02008,\n",
              " 0.02674,\n",
              " 0.0334,\n",
              " 0.04006,\n",
              " 0.04672,\n",
              " 0.05338,\n",
              " 0.060039999999999996,\n",
              " 0.0667,\n",
              " 0.07336,\n",
              " 0.08002,\n",
              " 0.08668,\n",
              " 0.09333999999999999]"
            ]
          },
          "metadata": {
            "tags": []
          },
          "execution_count": 28
        }
      ]
    },
    {
      "cell_type": "code",
      "metadata": {
        "id": "2kPDnwmhd4SW",
        "outputId": "77d59b32-a583-43b6-e554-2b62445b36e9",
        "colab": {
          "base_uri": "https://localhost:8080/",
          "height": 272
        }
      },
      "source": [
        " lr_range_test.Lr_acc =  lr_range_test.Lr_acc[10:]\n",
        "lr_range_test.Lr_acc"
      ],
      "execution_count": 29,
      "outputs": [
        {
          "output_type": "execute_result",
          "data": {
            "text/plain": [
              "[21.352,\n",
              " 40.622,\n",
              " 58.242,\n",
              " 65.354,\n",
              " 67.728,\n",
              " 65.794,\n",
              " 63.576,\n",
              " 60.384,\n",
              " 58.766,\n",
              " 54.91,\n",
              " 52.922,\n",
              " 50.126,\n",
              " 45.798,\n",
              " 45.352,\n",
              " 43.032]"
            ]
          },
          "metadata": {
            "tags": []
          },
          "execution_count": 29
        }
      ]
    },
    {
      "cell_type": "markdown",
      "metadata": {
        "id": "Uf7S24AeswGZ"
      },
      "source": [
        "#"
      ]
    },
    {
      "cell_type": "markdown",
      "metadata": {
        "id": "jJisklrJtltO"
      },
      "source": [
        "#LR v/s Accuracy plot\n"
      ]
    },
    {
      "cell_type": "code",
      "metadata": {
        "id": "1F2Zrkc-kI49",
        "outputId": "91713999-d719-48b9-d03f-4d9d5295b99a",
        "colab": {
          "base_uri": "https://localhost:8080/",
          "height": 295
        }
      },
      "source": [
        "import lr_range_test\n",
        "plt.plot( lr_range_test.Lr , lr_range_test.Lr_acc)\n",
        "plt.ylabel('train Accuracy')\n",
        "plt.xlabel(\"LR\")\n",
        "plt.title(\"Lr v/s accuracy\")\n",
        "plt.show()"
      ],
      "execution_count": 30,
      "outputs": [
        {
          "output_type": "display_data",
          "data": {
            "image/png": "[encoded data removed]",
            "text/plain": [
              "<Figure size 432x288 with 1 Axes>"
            ]
          },
          "metadata": {
            "tags": [],
            "needs_background": "light"
          }
        }
      ]
    },
    {
      "cell_type": "code",
      "metadata": {
        "id": "yCcPIywMZBGl",
        "outputId": "6e4c4450-c0c5-4a27-84af-1e6625c703d9",
        "colab": {
          "base_uri": "https://localhost:8080/",
          "height": 1000
        }
      },
      "source": [
        "#model =  model.Net().to(device)\n",
        "optimizer = optim.SGD(model.parameters(), lr=0.01 , momentum=0.9, weight_decay=0.005) \n",
        "#scheduler = ReduceLROnPlateau(optimizer, patience = 3,min_lr=1e-4)\n",
        "scheduler = OneCycleLR(optimizer,max_lr = 0.02006 ,total_steps=None,epochs=24,steps_per_epoch=1,pct_start=0.208,anneal_strategy=\"linear\",cycle_momentum=False,base_momentum=0.85,max_momentum=0.95,div_factor=10.0,final_div_factor=1)\n",
        "loss_func=nn.CrossEntropyLoss()\n",
        "LR = []\n",
        "for epoch in range(24):\n",
        "   \n",
        "    lr = optimizer.param_groups[0]['lr']\n",
        "    LR.append(lr)\n",
        "    print(\"Epoch:\", epoch ,\" LR: \", lr)\n",
        "    train.train(model, device, dataloader.train_loader_Albumentation, optimizer, loss_func, epoch)\n",
        "    # scheduler.step()\n",
        "    test.test(model, device, dataloader.test_loader, loss_func, last_epoch=True)\n",
        "   # scheduler.step(test10.test_losses[-1])\n",
        "    scheduler.step()"
      ],
      "execution_count": 34,
      "outputs": [
        {
          "output_type": "stream",
          "text": [
            "\r  0%|          | 0/98 [00:00<?, ?it/s]"
          ],
          "name": "stderr"
        },
        {
          "output_type": "stream",
          "text": [
            "Epoch: 0  LR:  0.002006\n"
          ],
          "name": "stdout"
        },
        {
          "output_type": "stream",
          "text": [
            "Epoch= 0 Loss=1.3250086307525635 Batch_id=97 Accuracy=38.01: 100%|██████████| 98/98 [00:17<00:00,  5.60it/s]\n",
            "  0%|          | 0/98 [00:00<?, ?it/s]"
          ],
          "name": "stderr"
        },
        {
          "output_type": "stream",
          "text": [
            "\n",
            "Test set: Average loss: 0.0029, Accuracy: 4938/10000 (49.38%)\n",
            "\n",
            "Epoch: 1  LR:  0.006528545090180361\n"
          ],
          "name": "stdout"
        },
        {
          "output_type": "stream",
          "text": [
            "Epoch= 1 Loss=1.1445661783218384 Batch_id=97 Accuracy=52.09: 100%|██████████| 98/98 [00:17<00:00,  5.56it/s]\n",
            "  0%|          | 0/98 [00:00<?, ?it/s]"
          ],
          "name": "stderr"
        },
        {
          "output_type": "stream",
          "text": [
            "\n",
            "Test set: Average loss: 0.0024, Accuracy: 5983/10000 (59.83%)\n",
            "\n",
            "Epoch: 2  LR:  0.011051090180360722\n"
          ],
          "name": "stdout"
        },
        {
          "output_type": "stream",
          "text": [
            "Epoch= 2 Loss=1.2344435453414917 Batch_id=97 Accuracy=58.85: 100%|██████████| 98/98 [00:17<00:00,  5.57it/s]\n",
            "  0%|          | 0/98 [00:00<?, ?it/s]"
          ],
          "name": "stderr"
        },
        {
          "output_type": "stream",
          "text": [
            "\n",
            "Test set: Average loss: 0.0018, Accuracy: 7029/10000 (70.29%)\n",
            "\n",
            "Epoch: 3  LR:  0.015573635270541081\n"
          ],
          "name": "stdout"
        },
        {
          "output_type": "stream",
          "text": [
            "Epoch= 3 Loss=0.8875654935836792 Batch_id=97 Accuracy=65.47: 100%|██████████| 98/98 [00:17<00:00,  5.56it/s]\n",
            "  0%|          | 0/98 [00:00<?, ?it/s]"
          ],
          "name": "stderr"
        },
        {
          "output_type": "stream",
          "text": [
            "\n",
            "Test set: Average loss: 0.0016, Accuracy: 7212/10000 (72.12%)\n",
            "\n",
            "Epoch: 4  LR:  0.020052401515151516\n"
          ],
          "name": "stdout"
        },
        {
          "output_type": "stream",
          "text": [
            "Epoch= 4 Loss=0.8508343696594238 Batch_id=97 Accuracy=69.53: 100%|██████████| 98/98 [00:17<00:00,  5.58it/s]\n",
            "  0%|          | 0/98 [00:00<?, ?it/s]"
          ],
          "name": "stderr"
        },
        {
          "output_type": "stream",
          "text": [
            "\n",
            "Test set: Average loss: 0.0015, Accuracy: 7372/10000 (73.72%)\n",
            "\n",
            "Epoch: 5  LR:  0.01910259090909091\n"
          ],
          "name": "stdout"
        },
        {
          "output_type": "stream",
          "text": [
            "Epoch= 5 Loss=0.6972422003746033 Batch_id=97 Accuracy=74.89: 100%|██████████| 98/98 [00:17<00:00,  5.50it/s]\n",
            "  0%|          | 0/98 [00:00<?, ?it/s]"
          ],
          "name": "stderr"
        },
        {
          "output_type": "stream",
          "text": [
            "\n",
            "Test set: Average loss: 0.0013, Accuracy: 7932/10000 (79.32%)\n",
            "\n",
            "Epoch: 6  LR:  0.018152780303030303\n"
          ],
          "name": "stdout"
        },
        {
          "output_type": "stream",
          "text": [
            "Epoch= 6 Loss=0.6899505257606506 Batch_id=97 Accuracy=77.07: 100%|██████████| 98/98 [00:17<00:00,  5.48it/s]\n",
            "  0%|          | 0/98 [00:00<?, ?it/s]"
          ],
          "name": "stderr"
        },
        {
          "output_type": "stream",
          "text": [
            "\n",
            "Test set: Average loss: 0.0012, Accuracy: 8060/10000 (80.60%)\n",
            "\n",
            "Epoch: 7  LR:  0.0172029696969697\n"
          ],
          "name": "stdout"
        },
        {
          "output_type": "stream",
          "text": [
            "Epoch= 7 Loss=0.5397270321846008 Batch_id=97 Accuracy=80.31: 100%|██████████| 98/98 [00:17<00:00,  5.60it/s]\n",
            "  0%|          | 0/98 [00:00<?, ?it/s]"
          ],
          "name": "stderr"
        },
        {
          "output_type": "stream",
          "text": [
            "\n",
            "Test set: Average loss: 0.0010, Accuracy: 8343/10000 (83.43%)\n",
            "\n",
            "Epoch: 8  LR:  0.016253159090909092\n"
          ],
          "name": "stdout"
        },
        {
          "output_type": "stream",
          "text": [
            "Epoch= 8 Loss=0.49834123253822327 Batch_id=97 Accuracy=81.36: 100%|██████████| 98/98 [00:17<00:00,  5.57it/s]\n",
            "  0%|          | 0/98 [00:00<?, ?it/s]"
          ],
          "name": "stderr"
        },
        {
          "output_type": "stream",
          "text": [
            "\n",
            "Test set: Average loss: 0.0011, Accuracy: 8111/10000 (81.11%)\n",
            "\n",
            "Epoch: 9  LR:  0.015303348484848486\n"
          ],
          "name": "stdout"
        },
        {
          "output_type": "stream",
          "text": [
            "Epoch= 9 Loss=0.5584633946418762 Batch_id=97 Accuracy=82.57: 100%|██████████| 98/98 [00:17<00:00,  5.62it/s]\n",
            "  0%|          | 0/98 [00:00<?, ?it/s]"
          ],
          "name": "stderr"
        },
        {
          "output_type": "stream",
          "text": [
            "\n",
            "Test set: Average loss: 0.0010, Accuracy: 8307/10000 (83.07%)\n",
            "\n",
            "Epoch: 10  LR:  0.01435353787878788\n"
          ],
          "name": "stdout"
        },
        {
          "output_type": "stream",
          "text": [
            "Epoch= 10 Loss=0.5128210783004761 Batch_id=97 Accuracy=83.74: 100%|██████████| 98/98 [00:17<00:00,  5.59it/s]\n",
            "  0%|          | 0/98 [00:00<?, ?it/s]"
          ],
          "name": "stderr"
        },
        {
          "output_type": "stream",
          "text": [
            "\n",
            "Test set: Average loss: 0.0009, Accuracy: 8471/10000 (84.71%)\n",
            "\n",
            "Epoch: 11  LR:  0.013403727272727272\n"
          ],
          "name": "stdout"
        },
        {
          "output_type": "stream",
          "text": [
            "Epoch= 11 Loss=0.4270302951335907 Batch_id=97 Accuracy=84.87: 100%|██████████| 98/98 [00:17<00:00,  5.66it/s]\n",
            "  0%|          | 0/98 [00:00<?, ?it/s]"
          ],
          "name": "stderr"
        },
        {
          "output_type": "stream",
          "text": [
            "\n",
            "Test set: Average loss: 0.0009, Accuracy: 8356/10000 (83.56%)\n",
            "\n",
            "Epoch: 12  LR:  0.012453916666666669\n"
          ],
          "name": "stdout"
        },
        {
          "output_type": "stream",
          "text": [
            "Epoch= 12 Loss=0.3781675696372986 Batch_id=97 Accuracy=86.17: 100%|██████████| 98/98 [00:17<00:00,  5.69it/s]\n",
            "  0%|          | 0/98 [00:00<?, ?it/s]"
          ],
          "name": "stderr"
        },
        {
          "output_type": "stream",
          "text": [
            "\n",
            "Test set: Average loss: 0.0010, Accuracy: 8339/10000 (83.39%)\n",
            "\n",
            "Epoch: 13  LR:  0.011504106060606062\n"
          ],
          "name": "stdout"
        },
        {
          "output_type": "stream",
          "text": [
            "Epoch= 13 Loss=0.3494153320789337 Batch_id=97 Accuracy=86.59: 100%|██████████| 98/98 [00:17<00:00,  5.57it/s]\n",
            "  0%|          | 0/98 [00:00<?, ?it/s]"
          ],
          "name": "stderr"
        },
        {
          "output_type": "stream",
          "text": [
            "\n",
            "Test set: Average loss: 0.0007, Accuracy: 8795/10000 (87.95%)\n",
            "\n",
            "Epoch: 14  LR:  0.010554295454545457\n"
          ],
          "name": "stdout"
        },
        {
          "output_type": "stream",
          "text": [
            "Epoch= 14 Loss=0.3407072126865387 Batch_id=97 Accuracy=87.41: 100%|██████████| 98/98 [00:17<00:00,  5.65it/s]\n",
            "  0%|          | 0/98 [00:00<?, ?it/s]"
          ],
          "name": "stderr"
        },
        {
          "output_type": "stream",
          "text": [
            "\n",
            "Test set: Average loss: 0.0007, Accuracy: 8798/10000 (87.98%)\n",
            "\n",
            "Epoch: 15  LR:  0.009604484848484848\n"
          ],
          "name": "stdout"
        },
        {
          "output_type": "stream",
          "text": [
            "Epoch= 15 Loss=0.32638534903526306 Batch_id=97 Accuracy=87.99: 100%|██████████| 98/98 [00:17<00:00,  5.63it/s]\n",
            "  0%|          | 0/98 [00:00<?, ?it/s]"
          ],
          "name": "stderr"
        },
        {
          "output_type": "stream",
          "text": [
            "\n",
            "Test set: Average loss: 0.0009, Accuracy: 8584/10000 (85.84%)\n",
            "\n",
            "Epoch: 16  LR:  0.008654674242424243\n"
          ],
          "name": "stdout"
        },
        {
          "output_type": "stream",
          "text": [
            "Epoch= 16 Loss=0.2861529588699341 Batch_id=97 Accuracy=88.93: 100%|██████████| 98/98 [00:17<00:00,  5.64it/s]\n",
            "  0%|          | 0/98 [00:00<?, ?it/s]"
          ],
          "name": "stderr"
        },
        {
          "output_type": "stream",
          "text": [
            "\n",
            "Test set: Average loss: 0.0009, Accuracy: 8561/10000 (85.61%)\n",
            "\n",
            "Epoch: 17  LR:  0.007704863636363636\n"
          ],
          "name": "stdout"
        },
        {
          "output_type": "stream",
          "text": [
            "Epoch= 17 Loss=0.29740291833877563 Batch_id=97 Accuracy=89.80: 100%|██████████| 98/98 [00:17<00:00,  5.69it/s]\n",
            "  0%|          | 0/98 [00:00<?, ?it/s]"
          ],
          "name": "stderr"
        },
        {
          "output_type": "stream",
          "text": [
            "\n",
            "Test set: Average loss: 0.0006, Accuracy: 8929/10000 (89.29%)\n",
            "\n",
            "Epoch: 18  LR:  0.006755053030303031\n"
          ],
          "name": "stdout"
        },
        {
          "output_type": "stream",
          "text": [
            "Epoch= 18 Loss=0.2758074402809143 Batch_id=97 Accuracy=90.35: 100%|██████████| 98/98 [00:17<00:00,  5.72it/s]\n",
            "  0%|          | 0/98 [00:00<?, ?it/s]"
          ],
          "name": "stderr"
        },
        {
          "output_type": "stream",
          "text": [
            "\n",
            "Test set: Average loss: 0.0006, Accuracy: 8918/10000 (89.18%)\n",
            "\n",
            "Epoch: 19  LR:  0.0058052424242424246\n"
          ],
          "name": "stdout"
        },
        {
          "output_type": "stream",
          "text": [
            "Epoch= 19 Loss=0.26665571331977844 Batch_id=97 Accuracy=91.04: 100%|██████████| 98/98 [00:17<00:00,  5.56it/s]\n",
            "  0%|          | 0/98 [00:00<?, ?it/s]"
          ],
          "name": "stderr"
        },
        {
          "output_type": "stream",
          "text": [
            "\n",
            "Test set: Average loss: 0.0006, Accuracy: 8939/10000 (89.39%)\n",
            "\n",
            "Epoch: 20  LR:  0.0048554318181818195\n"
          ],
          "name": "stdout"
        },
        {
          "output_type": "stream",
          "text": [
            "Epoch= 20 Loss=0.24661840498447418 Batch_id=97 Accuracy=91.69: 100%|██████████| 98/98 [00:17<00:00,  5.64it/s]\n",
            "  0%|          | 0/98 [00:00<?, ?it/s]"
          ],
          "name": "stderr"
        },
        {
          "output_type": "stream",
          "text": [
            "\n",
            "Test set: Average loss: 0.0006, Accuracy: 9054/10000 (90.54%)\n",
            "\n",
            "Epoch: 21  LR:  0.0039056212121212144\n"
          ],
          "name": "stdout"
        },
        {
          "output_type": "stream",
          "text": [
            "Epoch= 21 Loss=0.21177798509597778 Batch_id=97 Accuracy=92.18: 100%|██████████| 98/98 [00:17<00:00,  5.57it/s]\n",
            "  0%|          | 0/98 [00:00<?, ?it/s]"
          ],
          "name": "stderr"
        },
        {
          "output_type": "stream",
          "text": [
            "\n",
            "Test set: Average loss: 0.0005, Accuracy: 9139/10000 (91.39%)\n",
            "\n",
            "Epoch: 22  LR:  0.0029558106060606076\n"
          ],
          "name": "stdout"
        },
        {
          "output_type": "stream",
          "text": [
            "Epoch= 22 Loss=0.22994032502174377 Batch_id=97 Accuracy=93.03: 100%|██████████| 98/98 [00:17<00:00,  5.57it/s]\n",
            "  0%|          | 0/98 [00:00<?, ?it/s]"
          ],
          "name": "stderr"
        },
        {
          "output_type": "stream",
          "text": [
            "\n",
            "Test set: Average loss: 0.0005, Accuracy: 9159/10000 (91.59%)\n",
            "\n",
            "Epoch: 23  LR:  0.002006000000000001\n"
          ],
          "name": "stdout"
        },
        {
          "output_type": "stream",
          "text": [
            "Epoch= 23 Loss=0.17721402645111084 Batch_id=97 Accuracy=93.79: 100%|██████████| 98/98 [00:17<00:00,  5.62it/s]\n"
          ],
          "name": "stderr"
        },
        {
          "output_type": "stream",
          "text": [
            "\n",
            "Test set: Average loss: 0.0005, Accuracy: 9224/10000 (92.24%)\n",
            "\n"
          ],
          "name": "stdout"
        }
      ]
    },
    {
      "cell_type": "markdown",
      "metadata": {
        "id": "LO4_qEQ4tc1t"
      },
      "source": [
        "#LR plot\n"
      ]
    },
    {
      "cell_type": "code",
      "metadata": {
        "id": "XFzQvQURgMxw",
        "outputId": "7fe6454a-c0f7-48a1-a5eb-e19e74bd6886",
        "colab": {
          "base_uri": "https://localhost:8080/",
          "height": 295
        }
      },
      "source": [
        "plt.plot(LR)\n",
        "plt.ylabel('Learning rate')\n",
        "plt.xlabel(\"epoch\")\n",
        "plt.title(\"Lr v/s epochs\")\n",
        "plt.show()"
      ],
      "execution_count": 35,
      "outputs": [
        {
          "output_type": "display_data",
          "data": {
            "image/png": "[encoded data removed]",
            "text/plain": [
              "<Figure size 432x288 with 1 Axes>"
            ]
          },
          "metadata": {
            "tags": [],
            "needs_background": "light"
          }
        }
      ]
    },
    {
      "cell_type": "markdown",
      "metadata": {
        "id": "BmkOuDQeR1rF"
      },
      "source": [
        "#Test_class_performs"
      ]
    },
    {
      "cell_type": "code",
      "metadata": {
        "id": "rCAYstS_ozsK",
        "outputId": "3a1e4043-953c-42c8-eae8-a8aef6fe83cd",
        "colab": {
          "base_uri": "https://localhost:8080/",
          "height": 204
        }
      },
      "source": [
        "from tqdm import tqdm\n",
        "\n",
        "class_correct = list(0. for i in range(10))\n",
        "class_total = list(0. for i in range(10))\n",
        "with torch.no_grad():\n",
        "  pbar = tqdm(dataloader.test_loader)\n",
        "  for i, (data, target) in enumerate(pbar):\n",
        "    data, target = data.to(device), target.to(device)\n",
        "    outputs = model(data)\n",
        "    _, predicted = torch.max(outputs, 1)\n",
        "    c = (predicted == target).squeeze()\n",
        "    for i in range(4):\n",
        "        label = target[i]\n",
        "        class_correct[label] += c[i].item()\n",
        "        class_total[label] += 1\n",
        "for i in range(10):\n",
        "  print('Accuracy of %5s : %2d %%' % (classes[i], 100 * class_correct[i] / class_total[i]))"
      ],
      "execution_count": 36,
      "outputs": [
        {
          "output_type": "stream",
          "text": [
            "100%|██████████| 20/20 [00:02<00:00,  8.64it/s]"
          ],
          "name": "stderr"
        },
        {
          "output_type": "stream",
          "text": [
            "Accuracy of plane : 100 %\n",
            "Accuracy of   car : 100 %\n",
            "Accuracy of  bird : 100 %\n",
            "Accuracy of   cat : 83 %\n",
            "Accuracy of  deer : 100 %\n",
            "Accuracy of   dog : 87 %\n",
            "Accuracy of  frog : 100 %\n",
            "Accuracy of horse : 100 %\n",
            "Accuracy of  ship : 100 %\n",
            "Accuracy of truck : 100 %\n"
          ],
          "name": "stdout"
        },
        {
          "output_type": "stream",
          "text": [
            "\n"
          ],
          "name": "stderr"
        }
      ]
    },
    {
      "cell_type": "markdown",
      "metadata": {
        "id": "IL8uh-9vRp5C"
      },
      "source": [
        "#train_&_test_accuracy"
      ]
    },
    {
      "cell_type": "code",
      "metadata": {
        "id": "82m_iOvLC6PX",
        "outputId": "0b5acb94-e2eb-47cc-fec7-edcb942817d2",
        "colab": {
          "base_uri": "https://localhost:8080/",
          "height": 567
        }
      },
      "source": [
        "fig, axs = plt.subplots(1,1,figsize=(12,9))\n",
        "plt.plot(train.train_acc)\n",
        "plt.plot(test.test_acc)\n",
        "\n",
        "plt.title('test & train Accuracy')\n",
        "plt.ylabel('Accuracy')\n",
        "plt.xlabel('epoch')\n",
        "plt.legend([\" train accuracy \", ' test accuracy '], loc='best')\n",
        "plt.show()"
      ],
      "execution_count": 38,
      "outputs": [
        {
          "output_type": "display_data",
          "data": {
            "image/png": "[encoded data removed]",
            "text/plain": [
              "<Figure size 864x648 with 1 Axes>"
            ]
          },
          "metadata": {
            "tags": [],
            "needs_background": "light"
          }
        }
      ]
    },
    {
      "cell_type": "markdown",
      "metadata": {
        "id": "zatpHb-UGtDP"
      },
      "source": [
        "#Cyclic LR plot"
      ]
    },
    {
      "cell_type": "code",
      "metadata": {
        "id": "6dArO6GGGqKg",
        "outputId": "aa51d5b7-bbe9-4b6b-faf9-eb0c30651d35",
        "colab": {
          "base_uri": "https://localhost:8080/",
          "height": 265
        }
      },
      "source": [
        "def Cyclic_triangular(iterations , min_lr , max_lr , step_size):\n",
        "  lr_plot =[]\n",
        "  for iteration in range(iterations):\n",
        "    cycle = floor(1+iteration/(2*step_size))\n",
        "    x = np.abs(iteration/step_size - 2*cycle + 1)\n",
        "    lr = min_lr + (max_lr-min_lr)*(1-x)\n",
        "    lr_plot.append(lr)\n",
        "  plt.plot(list(range(iterations)),lr_plot)\n",
        "Cyclic_triangular(300,0.2,2,50)"
      ],
      "execution_count": 39,
      "outputs": [
        {
          "output_type": "display_data",
          "data": {
            "image/png": "[encoded data removed]",
            "text/plain": [
              "<Figure size 432x288 with 1 Axes>"
            ]
          },
          "metadata": {
            "tags": [],
            "needs_background": "light"
          }
        }
      ]
    },
    {
      "cell_type": "code",
      "metadata": {
        "id": "gQZSDoRtHZG7"
      },
      "source": [
        ""
      ],
      "execution_count": null,
      "outputs": []
    }
  ]
}