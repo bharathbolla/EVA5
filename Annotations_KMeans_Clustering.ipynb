{
  "nbformat": 4,
  "nbformat_minor": 0,
  "metadata": {
    "colab": {
      "name": "Annotations_KMeans_Clustering.ipynb",
      "provenance": [],
      "include_colab_link": true
    },
    "kernelspec": {
      "name": "python3",
      "display_name": "Python 3"
    },
    "accelerator": "GPU"
  },
  "cells": [
    {
      "cell_type": "markdown",
      "metadata": {
        "id": "view-in-github",
        "colab_type": "text"
      },
      "source": [
        "<a href=\"https://colab.research.google.com/github/bharathbolla/EVA5/blob/s12/Annotations_KMeans_Clustering.ipynb\" target=\"_parent\"><img src=\"https://colab.research.google.com/assets/colab-badge.svg\" alt=\"Open In Colab\"/></a>"
      ]
    },
    {
      "cell_type": "code",
      "metadata": {
        "id": "-rZmPIwisjfv",
        "outputId": "4a5789ed-307e-47b4-d4a2-177715c4d85b",
        "colab": {
          "base_uri": "https://localhost:8080/",
          "height": 34
        }
      },
      "source": [
        "from datetime import datetime \n",
        "print(\"Current Date/Time: \", datetime.now())"
      ],
      "execution_count": 1,
      "outputs": [
        {
          "output_type": "stream",
          "text": [
            "Current Date/Time:  2020-10-18 17:12:26.642532\n"
          ],
          "name": "stdout"
        }
      ]
    },
    {
      "cell_type": "code",
      "metadata": {
        "id": "qT94RN7yHfL3",
        "outputId": "ee31a49f-8614-4d03-97fb-7b8c50e8fc52",
        "colab": {
          "base_uri": "https://localhost:8080/",
          "height": 34
        }
      },
      "source": [
        "from google.colab import drive\n",
        "drive.mount('/content/gdrive')\n"
      ],
      "execution_count": 3,
      "outputs": [
        {
          "output_type": "stream",
          "text": [
            "Drive already mounted at /content/gdrive; to attempt to forcibly remount, call drive.mount(\"/content/gdrive\", force_remount=True).\n"
          ],
          "name": "stdout"
        }
      ]
    },
    {
      "cell_type": "code",
      "metadata": {
        "id": "GfCaL6rJs_Oa",
        "outputId": "e85151ec-5408-4f14-c743-a1de1cb8600d",
        "colab": {
          "base_uri": "https://localhost:8080/",
          "height": 34
        }
      },
      "source": [
        "%cd /content/gdrive/My\\ Drive/Colab\\ Notebooks/EVA5/S12_Assignment"
      ],
      "execution_count": 4,
      "outputs": [
        {
          "output_type": "stream",
          "text": [
            "/content/gdrive/My Drive/Colab Notebooks/EVA5/S12_Assignment\n"
          ],
          "name": "stdout"
        }
      ]
    },
    {
      "cell_type": "code",
      "metadata": {
        "id": "86UI9el8HL-c"
      },
      "source": [
        "import pandas as pd\n",
        "import json\n",
        "from matplotlib import pyplot as plt\n",
        "from sklearn.cluster import KMeans"
      ],
      "execution_count": 6,
      "outputs": []
    },
    {
      "cell_type": "code",
      "metadata": {
        "id": "F19oGCjqHVZJ",
        "outputId": "7f7b53b8-bb22-4244-c304-043cdc132071",
        "colab": {
          "base_uri": "https://localhost:8080/",
          "height": 34
        }
      },
      "source": [
        "file = open('Annotations_Assignment_12.json')\n",
        "data = json.load(file)\n",
        "print(data.keys())"
      ],
      "execution_count": 7,
      "outputs": [
        {
          "output_type": "stream",
          "text": [
            "dict_keys(['info', 'images', 'annotations', 'licenses', 'categories'])\n"
          ],
          "name": "stdout"
        }
      ]
    },
    {
      "cell_type": "code",
      "metadata": {
        "id": "JUEGcxD6HrGk",
        "outputId": "21016e6f-f894-4117-b7a8-e758265877ab",
        "colab": {
          "base_uri": "https://localhost:8080/",
          "height": 204
        }
      },
      "source": [
        "annotations_df = pd.DataFrame.from_dict(data['annotations'])\n",
        "images_df = pd.DataFrame.from_dict(data['images'])\n",
        "\n",
        "images_df.head()"
      ],
      "execution_count": 8,
      "outputs": [
        {
          "output_type": "execute_result",
          "data": {
            "text/html": [
              "<div>\n",
              "<style scoped>\n",
              "    .dataframe tbody tr th:only-of-type {\n",
              "        vertical-align: middle;\n",
              "    }\n",
              "\n",
              "    .dataframe tbody tr th {\n",
              "        vertical-align: top;\n",
              "    }\n",
              "\n",
              "    .dataframe thead th {\n",
              "        text-align: right;\n",
              "    }\n",
              "</style>\n",
              "<table border=\"1\" class=\"dataframe\">\n",
              "  <thead>\n",
              "    <tr style=\"text-align: right;\">\n",
              "      <th></th>\n",
              "      <th>id</th>\n",
              "      <th>width</th>\n",
              "      <th>height</th>\n",
              "      <th>file_name</th>\n",
              "      <th>license</th>\n",
              "      <th>date_captured</th>\n",
              "    </tr>\n",
              "  </thead>\n",
              "  <tbody>\n",
              "    <tr>\n",
              "      <th>0</th>\n",
              "      <td>1</td>\n",
              "      <td>268</td>\n",
              "      <td>188</td>\n",
              "      <td>mask_1.jpg</td>\n",
              "      <td>0</td>\n",
              "      <td></td>\n",
              "    </tr>\n",
              "    <tr>\n",
              "      <th>1</th>\n",
              "      <td>2</td>\n",
              "      <td>275</td>\n",
              "      <td>183</td>\n",
              "      <td>mask_3.jpg</td>\n",
              "      <td>0</td>\n",
              "      <td></td>\n",
              "    </tr>\n",
              "    <tr>\n",
              "      <th>2</th>\n",
              "      <td>3</td>\n",
              "      <td>183</td>\n",
              "      <td>275</td>\n",
              "      <td>mask_2.jpg</td>\n",
              "      <td>0</td>\n",
              "      <td></td>\n",
              "    </tr>\n",
              "    <tr>\n",
              "      <th>3</th>\n",
              "      <td>4</td>\n",
              "      <td>268</td>\n",
              "      <td>188</td>\n",
              "      <td>mask_5.jpg</td>\n",
              "      <td>0</td>\n",
              "      <td></td>\n",
              "    </tr>\n",
              "    <tr>\n",
              "      <th>4</th>\n",
              "      <td>5</td>\n",
              "      <td>270</td>\n",
              "      <td>187</td>\n",
              "      <td>mask_6.jpg</td>\n",
              "      <td>0</td>\n",
              "      <td></td>\n",
              "    </tr>\n",
              "  </tbody>\n",
              "</table>\n",
              "</div>"
            ],
            "text/plain": [
              "   id  width  height   file_name  license date_captured\n",
              "0   1    268     188  mask_1.jpg        0              \n",
              "1   2    275     183  mask_3.jpg        0              \n",
              "2   3    183     275  mask_2.jpg        0              \n",
              "3   4    268     188  mask_5.jpg        0              \n",
              "4   5    270     187  mask_6.jpg        0              "
            ]
          },
          "metadata": {
            "tags": []
          },
          "execution_count": 8
        }
      ]
    },
    {
      "cell_type": "code",
      "metadata": {
        "id": "0s83xLBnHrDP",
        "outputId": "f7175180-a3f1-4ac2-bdfb-f85020554170",
        "colab": {
          "base_uri": "https://localhost:8080/",
          "height": 204
        }
      },
      "source": [
        "annotations_df.head()"
      ],
      "execution_count": 9,
      "outputs": [
        {
          "output_type": "execute_result",
          "data": {
            "text/html": [
              "<div>\n",
              "<style scoped>\n",
              "    .dataframe tbody tr th:only-of-type {\n",
              "        vertical-align: middle;\n",
              "    }\n",
              "\n",
              "    .dataframe tbody tr th {\n",
              "        vertical-align: top;\n",
              "    }\n",
              "\n",
              "    .dataframe thead th {\n",
              "        text-align: right;\n",
              "    }\n",
              "</style>\n",
              "<table border=\"1\" class=\"dataframe\">\n",
              "  <thead>\n",
              "    <tr style=\"text-align: right;\">\n",
              "      <th></th>\n",
              "      <th>segmentation</th>\n",
              "      <th>area</th>\n",
              "      <th>bbox</th>\n",
              "      <th>iscrowd</th>\n",
              "      <th>id</th>\n",
              "      <th>image_id</th>\n",
              "      <th>category_id</th>\n",
              "    </tr>\n",
              "  </thead>\n",
              "  <tbody>\n",
              "    <tr>\n",
              "      <th>0</th>\n",
              "      <td>[[54, 63, 124, 63, 124, 167, 54, 167]]</td>\n",
              "      <td>7280</td>\n",
              "      <td>[54, 63, 70, 104]</td>\n",
              "      <td>0</td>\n",
              "      <td>1</td>\n",
              "      <td>1</td>\n",
              "      <td>3</td>\n",
              "    </tr>\n",
              "    <tr>\n",
              "      <th>1</th>\n",
              "      <td>[[5, 6, 182, 6, 182, 47, 5, 47]]</td>\n",
              "      <td>7257</td>\n",
              "      <td>[5, 6, 177, 41]</td>\n",
              "      <td>0</td>\n",
              "      <td>2</td>\n",
              "      <td>1</td>\n",
              "      <td>1</td>\n",
              "    </tr>\n",
              "    <tr>\n",
              "      <th>2</th>\n",
              "      <td>[[102, 58, 206, 58, 206, 171, 102, 171]]</td>\n",
              "      <td>11752</td>\n",
              "      <td>[102, 58, 104, 113]</td>\n",
              "      <td>0</td>\n",
              "      <td>3</td>\n",
              "      <td>2</td>\n",
              "      <td>2</td>\n",
              "    </tr>\n",
              "    <tr>\n",
              "      <th>3</th>\n",
              "      <td>[[126, 6, 178, 6, 178, 29, 126, 29]]</td>\n",
              "      <td>1196</td>\n",
              "      <td>[126, 6, 52, 23]</td>\n",
              "      <td>0</td>\n",
              "      <td>4</td>\n",
              "      <td>2</td>\n",
              "      <td>1</td>\n",
              "    </tr>\n",
              "    <tr>\n",
              "      <th>4</th>\n",
              "      <td>[[119, 37, 181, 37, 181, 55, 119, 55]]</td>\n",
              "      <td>1116</td>\n",
              "      <td>[119, 37, 62, 18]</td>\n",
              "      <td>0</td>\n",
              "      <td>5</td>\n",
              "      <td>2</td>\n",
              "      <td>3</td>\n",
              "    </tr>\n",
              "  </tbody>\n",
              "</table>\n",
              "</div>"
            ],
            "text/plain": [
              "                               segmentation   area  ... image_id  category_id\n",
              "0    [[54, 63, 124, 63, 124, 167, 54, 167]]   7280  ...        1            3\n",
              "1          [[5, 6, 182, 6, 182, 47, 5, 47]]   7257  ...        1            1\n",
              "2  [[102, 58, 206, 58, 206, 171, 102, 171]]  11752  ...        2            2\n",
              "3      [[126, 6, 178, 6, 178, 29, 126, 29]]   1196  ...        2            1\n",
              "4    [[119, 37, 181, 37, 181, 55, 119, 55]]   1116  ...        2            3\n",
              "\n",
              "[5 rows x 7 columns]"
            ]
          },
          "metadata": {
            "tags": []
          },
          "execution_count": 9
        }
      ]
    },
    {
      "cell_type": "code",
      "metadata": {
        "id": "QqahqWpVHrAW",
        "outputId": "b1d52451-463a-45be-d028-b1c82911312e",
        "colab": {
          "base_uri": "https://localhost:8080/",
          "height": 204
        }
      },
      "source": [
        "imp_df = pd.concat([images_df, annotations_df], 1)[['file_name', 'width', 'height', 'bbox']]\n",
        "x_ = []\n",
        "y_ = []\n",
        "w_ = []\n",
        "h_ = [] \n",
        "for row in range(imp_df.shape[0]):\n",
        "  x_.append(imp_df['bbox'][row][0])\n",
        "  y_.append(imp_df['bbox'][row][1])\n",
        "  w_.append(imp_df['bbox'][row][2])\n",
        "  h_.append(imp_df['bbox'][row][3])\n",
        "box_df = pd.DataFrame(list(zip(x_, y_, w_, h_)), columns =['x', 'y', 'box_width', 'box_height'])\n",
        "imp_df = pd.concat([imp_df, box_df], 1)\n",
        "imp_df = imp_df.drop('bbox', axis =1)\n",
        "imp_df.head()"
      ],
      "execution_count": 10,
      "outputs": [
        {
          "output_type": "execute_result",
          "data": {
            "text/html": [
              "<div>\n",
              "<style scoped>\n",
              "    .dataframe tbody tr th:only-of-type {\n",
              "        vertical-align: middle;\n",
              "    }\n",
              "\n",
              "    .dataframe tbody tr th {\n",
              "        vertical-align: top;\n",
              "    }\n",
              "\n",
              "    .dataframe thead th {\n",
              "        text-align: right;\n",
              "    }\n",
              "</style>\n",
              "<table border=\"1\" class=\"dataframe\">\n",
              "  <thead>\n",
              "    <tr style=\"text-align: right;\">\n",
              "      <th></th>\n",
              "      <th>file_name</th>\n",
              "      <th>width</th>\n",
              "      <th>height</th>\n",
              "      <th>x</th>\n",
              "      <th>y</th>\n",
              "      <th>box_width</th>\n",
              "      <th>box_height</th>\n",
              "    </tr>\n",
              "  </thead>\n",
              "  <tbody>\n",
              "    <tr>\n",
              "      <th>0</th>\n",
              "      <td>mask_1.jpg</td>\n",
              "      <td>268.0</td>\n",
              "      <td>188.0</td>\n",
              "      <td>54</td>\n",
              "      <td>63</td>\n",
              "      <td>70</td>\n",
              "      <td>104</td>\n",
              "    </tr>\n",
              "    <tr>\n",
              "      <th>1</th>\n",
              "      <td>mask_3.jpg</td>\n",
              "      <td>275.0</td>\n",
              "      <td>183.0</td>\n",
              "      <td>5</td>\n",
              "      <td>6</td>\n",
              "      <td>177</td>\n",
              "      <td>41</td>\n",
              "    </tr>\n",
              "    <tr>\n",
              "      <th>2</th>\n",
              "      <td>mask_2.jpg</td>\n",
              "      <td>183.0</td>\n",
              "      <td>275.0</td>\n",
              "      <td>102</td>\n",
              "      <td>58</td>\n",
              "      <td>104</td>\n",
              "      <td>113</td>\n",
              "    </tr>\n",
              "    <tr>\n",
              "      <th>3</th>\n",
              "      <td>mask_5.jpg</td>\n",
              "      <td>268.0</td>\n",
              "      <td>188.0</td>\n",
              "      <td>126</td>\n",
              "      <td>6</td>\n",
              "      <td>52</td>\n",
              "      <td>23</td>\n",
              "    </tr>\n",
              "    <tr>\n",
              "      <th>4</th>\n",
              "      <td>mask_6.jpg</td>\n",
              "      <td>270.0</td>\n",
              "      <td>187.0</td>\n",
              "      <td>119</td>\n",
              "      <td>37</td>\n",
              "      <td>62</td>\n",
              "      <td>18</td>\n",
              "    </tr>\n",
              "  </tbody>\n",
              "</table>\n",
              "</div>"
            ],
            "text/plain": [
              "    file_name  width  height    x   y  box_width  box_height\n",
              "0  mask_1.jpg  268.0   188.0   54  63         70         104\n",
              "1  mask_3.jpg  275.0   183.0    5   6        177          41\n",
              "2  mask_2.jpg  183.0   275.0  102  58        104         113\n",
              "3  mask_5.jpg  268.0   188.0  126   6         52          23\n",
              "4  mask_6.jpg  270.0   187.0  119  37         62          18"
            ]
          },
          "metadata": {
            "tags": []
          },
          "execution_count": 10
        }
      ]
    },
    {
      "cell_type": "code",
      "metadata": {
        "id": "IHP8nWkvIs5J",
        "outputId": "7de44094-71b0-4920-a186-373f97afa174",
        "colab": {
          "base_uri": "https://localhost:8080/",
          "height": 204
        }
      },
      "source": [
        "imp_df['x'] = imp_df['x'] / imp_df['width']\n",
        "imp_df['y'] = imp_df['y'] / imp_df['height']\n",
        "imp_df['box_width'] = imp_df['box_width'] / imp_df['width']\n",
        "imp_df['box_height'] = imp_df['box_height'] / imp_df['height']\n",
        "imp_df.head()"
      ],
      "execution_count": 11,
      "outputs": [
        {
          "output_type": "execute_result",
          "data": {
            "text/html": [
              "<div>\n",
              "<style scoped>\n",
              "    .dataframe tbody tr th:only-of-type {\n",
              "        vertical-align: middle;\n",
              "    }\n",
              "\n",
              "    .dataframe tbody tr th {\n",
              "        vertical-align: top;\n",
              "    }\n",
              "\n",
              "    .dataframe thead th {\n",
              "        text-align: right;\n",
              "    }\n",
              "</style>\n",
              "<table border=\"1\" class=\"dataframe\">\n",
              "  <thead>\n",
              "    <tr style=\"text-align: right;\">\n",
              "      <th></th>\n",
              "      <th>file_name</th>\n",
              "      <th>width</th>\n",
              "      <th>height</th>\n",
              "      <th>x</th>\n",
              "      <th>y</th>\n",
              "      <th>box_width</th>\n",
              "      <th>box_height</th>\n",
              "    </tr>\n",
              "  </thead>\n",
              "  <tbody>\n",
              "    <tr>\n",
              "      <th>0</th>\n",
              "      <td>mask_1.jpg</td>\n",
              "      <td>268.0</td>\n",
              "      <td>188.0</td>\n",
              "      <td>0.201493</td>\n",
              "      <td>0.335106</td>\n",
              "      <td>0.261194</td>\n",
              "      <td>0.553191</td>\n",
              "    </tr>\n",
              "    <tr>\n",
              "      <th>1</th>\n",
              "      <td>mask_3.jpg</td>\n",
              "      <td>275.0</td>\n",
              "      <td>183.0</td>\n",
              "      <td>0.018182</td>\n",
              "      <td>0.032787</td>\n",
              "      <td>0.643636</td>\n",
              "      <td>0.224044</td>\n",
              "    </tr>\n",
              "    <tr>\n",
              "      <th>2</th>\n",
              "      <td>mask_2.jpg</td>\n",
              "      <td>183.0</td>\n",
              "      <td>275.0</td>\n",
              "      <td>0.557377</td>\n",
              "      <td>0.210909</td>\n",
              "      <td>0.568306</td>\n",
              "      <td>0.410909</td>\n",
              "    </tr>\n",
              "    <tr>\n",
              "      <th>3</th>\n",
              "      <td>mask_5.jpg</td>\n",
              "      <td>268.0</td>\n",
              "      <td>188.0</td>\n",
              "      <td>0.470149</td>\n",
              "      <td>0.031915</td>\n",
              "      <td>0.194030</td>\n",
              "      <td>0.122340</td>\n",
              "    </tr>\n",
              "    <tr>\n",
              "      <th>4</th>\n",
              "      <td>mask_6.jpg</td>\n",
              "      <td>270.0</td>\n",
              "      <td>187.0</td>\n",
              "      <td>0.440741</td>\n",
              "      <td>0.197861</td>\n",
              "      <td>0.229630</td>\n",
              "      <td>0.096257</td>\n",
              "    </tr>\n",
              "  </tbody>\n",
              "</table>\n",
              "</div>"
            ],
            "text/plain": [
              "    file_name  width  height         x         y  box_width  box_height\n",
              "0  mask_1.jpg  268.0   188.0  0.201493  0.335106   0.261194    0.553191\n",
              "1  mask_3.jpg  275.0   183.0  0.018182  0.032787   0.643636    0.224044\n",
              "2  mask_2.jpg  183.0   275.0  0.557377  0.210909   0.568306    0.410909\n",
              "3  mask_5.jpg  268.0   188.0  0.470149  0.031915   0.194030    0.122340\n",
              "4  mask_6.jpg  270.0   187.0  0.440741  0.197861   0.229630    0.096257"
            ]
          },
          "metadata": {
            "tags": []
          },
          "execution_count": 11
        }
      ]
    },
    {
      "cell_type": "code",
      "metadata": {
        "id": "2agUhnHJtfu_",
        "outputId": "c31a6981-e011-4e8c-ce1f-fd3e357ceb27",
        "colab": {
          "base_uri": "https://localhost:8080/",
          "height": 153
        }
      },
      "source": [
        "imp_df.isnull().sum()\n"
      ],
      "execution_count": 14,
      "outputs": [
        {
          "output_type": "execute_result",
          "data": {
            "text/plain": [
              "file_name     203\n",
              "width         203\n",
              "height        203\n",
              "x             203\n",
              "y             203\n",
              "box_width     203\n",
              "box_height    203\n",
              "dtype: int64"
            ]
          },
          "metadata": {
            "tags": []
          },
          "execution_count": 14
        }
      ]
    },
    {
      "cell_type": "code",
      "metadata": {
        "id": "D8GS0lTBt2Mz",
        "outputId": "ecd1cf13-7759-46ac-80e0-5fd5fc6c157d",
        "colab": {
          "base_uri": "https://localhost:8080/",
          "height": 204
        }
      },
      "source": [
        "imp_df.tail()"
      ],
      "execution_count": 16,
      "outputs": [
        {
          "output_type": "execute_result",
          "data": {
            "text/html": [
              "<div>\n",
              "<style scoped>\n",
              "    .dataframe tbody tr th:only-of-type {\n",
              "        vertical-align: middle;\n",
              "    }\n",
              "\n",
              "    .dataframe tbody tr th {\n",
              "        vertical-align: top;\n",
              "    }\n",
              "\n",
              "    .dataframe thead th {\n",
              "        text-align: right;\n",
              "    }\n",
              "</style>\n",
              "<table border=\"1\" class=\"dataframe\">\n",
              "  <thead>\n",
              "    <tr style=\"text-align: right;\">\n",
              "      <th></th>\n",
              "      <th>file_name</th>\n",
              "      <th>width</th>\n",
              "      <th>height</th>\n",
              "      <th>x</th>\n",
              "      <th>y</th>\n",
              "      <th>box_width</th>\n",
              "      <th>box_height</th>\n",
              "    </tr>\n",
              "  </thead>\n",
              "  <tbody>\n",
              "    <tr>\n",
              "      <th>314</th>\n",
              "      <td>NaN</td>\n",
              "      <td>NaN</td>\n",
              "      <td>NaN</td>\n",
              "      <td>NaN</td>\n",
              "      <td>NaN</td>\n",
              "      <td>NaN</td>\n",
              "      <td>NaN</td>\n",
              "    </tr>\n",
              "    <tr>\n",
              "      <th>315</th>\n",
              "      <td>NaN</td>\n",
              "      <td>NaN</td>\n",
              "      <td>NaN</td>\n",
              "      <td>NaN</td>\n",
              "      <td>NaN</td>\n",
              "      <td>NaN</td>\n",
              "      <td>NaN</td>\n",
              "    </tr>\n",
              "    <tr>\n",
              "      <th>316</th>\n",
              "      <td>NaN</td>\n",
              "      <td>NaN</td>\n",
              "      <td>NaN</td>\n",
              "      <td>NaN</td>\n",
              "      <td>NaN</td>\n",
              "      <td>NaN</td>\n",
              "      <td>NaN</td>\n",
              "    </tr>\n",
              "    <tr>\n",
              "      <th>317</th>\n",
              "      <td>NaN</td>\n",
              "      <td>NaN</td>\n",
              "      <td>NaN</td>\n",
              "      <td>NaN</td>\n",
              "      <td>NaN</td>\n",
              "      <td>NaN</td>\n",
              "      <td>NaN</td>\n",
              "    </tr>\n",
              "    <tr>\n",
              "      <th>318</th>\n",
              "      <td>NaN</td>\n",
              "      <td>NaN</td>\n",
              "      <td>NaN</td>\n",
              "      <td>NaN</td>\n",
              "      <td>NaN</td>\n",
              "      <td>NaN</td>\n",
              "      <td>NaN</td>\n",
              "    </tr>\n",
              "  </tbody>\n",
              "</table>\n",
              "</div>"
            ],
            "text/plain": [
              "    file_name  width  height   x   y  box_width  box_height\n",
              "314       NaN    NaN     NaN NaN NaN        NaN         NaN\n",
              "315       NaN    NaN     NaN NaN NaN        NaN         NaN\n",
              "316       NaN    NaN     NaN NaN NaN        NaN         NaN\n",
              "317       NaN    NaN     NaN NaN NaN        NaN         NaN\n",
              "318       NaN    NaN     NaN NaN NaN        NaN         NaN"
            ]
          },
          "metadata": {
            "tags": []
          },
          "execution_count": 16
        }
      ]
    },
    {
      "cell_type": "code",
      "metadata": {
        "id": "5eYrQ6u2tsbs",
        "outputId": "3966a2ec-0870-47e9-e8af-27e390b74bfe",
        "colab": {
          "base_uri": "https://localhost:8080/",
          "height": 34
        }
      },
      "source": [
        "imp_df.shape"
      ],
      "execution_count": 15,
      "outputs": [
        {
          "output_type": "execute_result",
          "data": {
            "text/plain": [
              "(319, 7)"
            ]
          },
          "metadata": {
            "tags": []
          },
          "execution_count": 15
        }
      ]
    },
    {
      "cell_type": "code",
      "metadata": {
        "id": "VHMQAjL2uJb0",
        "outputId": "720a2493-6bab-4006-e258-ab71bb9466d7",
        "colab": {
          "base_uri": "https://localhost:8080/",
          "height": 153
        }
      },
      "source": [
        "imp_df.dropna(inplace=True)\n",
        "imp_df.isnull().sum()"
      ],
      "execution_count": 18,
      "outputs": [
        {
          "output_type": "execute_result",
          "data": {
            "text/plain": [
              "file_name     0\n",
              "width         0\n",
              "height        0\n",
              "x             0\n",
              "y             0\n",
              "box_width     0\n",
              "box_height    0\n",
              "dtype: int64"
            ]
          },
          "metadata": {
            "tags": []
          },
          "execution_count": 18
        }
      ]
    },
    {
      "cell_type": "code",
      "metadata": {
        "id": "4nOjt2O_Ixxz",
        "outputId": "77526535-9429-4254-e2ed-52e588db5fac",
        "colab": {
          "base_uri": "https://localhost:8080/",
          "height": 282
        }
      },
      "source": [
        "imp_stripped = imp_df[[\"box_width\", \"box_height\"]].to_numpy()\n",
        "plt.scatter(imp_stripped[:,0], imp_stripped[:,1])"
      ],
      "execution_count": 19,
      "outputs": [
        {
          "output_type": "execute_result",
          "data": {
            "text/plain": [
              "<matplotlib.collections.PathCollection at 0x7f7b5a770b00>"
            ]
          },
          "metadata": {
            "tags": []
          },
          "execution_count": 19
        },
        {
          "output_type": "display_data",
          "data": {
            "image/png": "[encoded data removed]",
            "text/plain": [
              "<Figure size 432x288 with 1 Axes>"
            ]
          },
          "metadata": {
            "tags": [],
            "needs_background": "light"
          }
        }
      ]
    },
    {
      "cell_type": "code",
      "metadata": {
        "id": "Zje-p5cmJxS-",
        "outputId": "7331527a-a795-4264-a826-39c96242da39",
        "colab": {
          "base_uri": "https://localhost:8080/",
          "height": 295
        }
      },
      "source": [
        "wcss = []\n",
        "for i in range(1, 11):\n",
        "    kmeans = KMeans(n_clusters=i, init='k-means++', max_iter=300, n_init=10, random_state=0)\n",
        "    kmeans.fit(imp_stripped)\n",
        "    wcss.append(kmeans.inertia_)\n",
        "plt.plot(range(1, 11), wcss)\n",
        "plt.title('Elbow Method')\n",
        "plt.xlabel('Number of clusters')\n",
        "plt.ylabel('WCSS')\n",
        "plt.show()"
      ],
      "execution_count": 20,
      "outputs": [
        {
          "output_type": "display_data",
          "data": {
            "image/png": "[encoded data removed]",
            "text/plain": [
              "<Figure size 432x288 with 1 Axes>"
            ]
          },
          "metadata": {
            "tags": [],
            "needs_background": "light"
          }
        }
      ]
    },
    {
      "cell_type": "code",
      "metadata": {
        "id": "8dRq9XmYJ1-F"
      },
      "source": [
        "kmeans=KMeans(n_clusters=3,init='k-means++',max_iter = 300,n_init=10,random_state=0)\n",
        "\n",
        "y_kmeans=kmeans.fit_predict(imp_stripped)"
      ],
      "execution_count": 21,
      "outputs": []
    },
    {
      "cell_type": "code",
      "metadata": {
        "id": "wn9u7Wz5J7fn",
        "outputId": "d13ae1de-9e3b-47cc-b227-f179aa8e692a",
        "colab": {
          "base_uri": "https://localhost:8080/",
          "height": 295
        }
      },
      "source": [
        "plt.scatter(imp_stripped[y_kmeans==0, 0], imp_stripped[y_kmeans ==0, 1], s=100, c='black', label = 'Cluster1')\n",
        "plt.scatter(imp_stripped[y_kmeans==1, 0], imp_stripped[y_kmeans ==1, 1], s=100, c='orange', label = 'Cluster2')\n",
        "plt.scatter(kmeans.cluster_centers_[:, 0], kmeans.cluster_centers_[:, 1], s=300, c='blue', label = 'Centroids') \n",
        "plt.title('Cluster of images')\n",
        "plt.xlabel('width')\n",
        "plt.ylabel ('Height')\n",
        "plt.legend()\n",
        "plt.show()"
      ],
      "execution_count": 22,
      "outputs": [
        {
          "output_type": "display_data",
          "data": {
            "image/png": "[encoded data removed]",
            "text/plain": [
              "<Figure size 432x288 with 1 Axes>"
            ]
          },
          "metadata": {
            "tags": [],
            "needs_background": "light"
          }
        }
      ]
    },
    {
      "cell_type": "code",
      "metadata": {
        "id": "SML3nAHNMCvM"
      },
      "source": [
        ""
      ],
      "execution_count": null,
      "outputs": []
    }
  ]
}